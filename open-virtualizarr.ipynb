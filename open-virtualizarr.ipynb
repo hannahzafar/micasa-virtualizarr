{
 "cells": [
  {
   "cell_type": "markdown",
   "id": "a2efc7bb-38dc-4af3-88c3-7542e94f6389",
   "metadata": {},
   "source": [
    "## Open previously virtualized dataset"
   ]
  },
  {
   "cell_type": "code",
   "execution_count": null,
   "id": "6c69d0da-46df-4756-9582-f26e6a067767",
   "metadata": {},
   "outputs": [],
   "source": [
    "ds_concat = xr.open_dataset('concat_test2.json',engine='kerchunk', \n",
    "                            decode_cf='False',\n",
    "                            # decode_times='False',\n",
    "                           )\n",
    "# try explicitly passing decode_cf = true or false to see what the raw values are\n",
    "ds_concat"
   ]
  },
  {
   "cell_type": "code",
   "execution_count": null,
   "id": "338bd236-f4e3-48b9-9ccf-040ec19c52bd",
   "metadata": {},
   "outputs": [],
   "source": [
    "ds_combine = xr.open_dataset('combine_test2.json',engine='kerchunk',\n",
    "                            decode_cf='True',\n",
    "                            )\n",
    "ds_combine"
   ]
  },
  {
   "cell_type": "code",
   "execution_count": null,
   "id": "6f5b42ad-58aa-4e9d-b83f-dc1bfe210d40",
   "metadata": {},
   "outputs": [],
   "source": [
    "ds_combine = xr.open_dataset('combined_test_loadable.json',engine='kerchunk')\n",
    "ds_combine"
   ]
  },
  {
   "cell_type": "code",
   "execution_count": null,
   "id": "d1019101-ef70-40d3-b15a-39b9bbc7214b",
   "metadata": {},
   "outputs": [],
   "source": [
    "# One month output\n",
    "# ds_combine = xr.open_dataset('combined.json', engine='kerchunk', chunks={}) \n",
    "# ds_combine"
   ]
  },
  {
   "cell_type": "code",
   "execution_count": null,
   "id": "a0e6af23-ceb4-407c-8b70-500f50acac38",
   "metadata": {},
   "outputs": [],
   "source": [
    "# old one all time\n",
    "# ds_old = xr.open_dataset('old/combined.json', engine='kerchunk', chunks={}) \n",
    "# ds_old"
   ]
  },
  {
   "cell_type": "code",
   "execution_count": null,
   "id": "f26651c5-b971-4bf3-b5ad-d6f7fd73f6cc",
   "metadata": {},
   "outputs": [],
   "source": [
    "# # this Dataset wraps a bunch of virtual ManifestArray objects directly\n",
    "# virtual_ds = xr.combine_nested(virtual_datasets, concat_dim=['time'])\n",
    "# virtual_ds = xr.concat(virtual_datasets, dim='time')\n",
    "\n",
    "\n",
    "# # cache the combined dataset pattern to disk, in this case using the existing kerchunk specification for re ference files\n",
    "# virtual_ds.virtualize.to_kerchunk('combined_test.json', format='json')\n",
    "# # virtual_ds.virtualize.to_kerchunk('combined_test.json', format='parquet')"
   ]
  },
  {
   "cell_type": "code",
   "execution_count": null,
   "id": "54e958df-ee0d-45b3-880a-bf54f53c02f1",
   "metadata": {},
   "outputs": [],
   "source": [
    "\n",
    "# combine_test = xr.combine_nested(virtual_datasets_test,concat_dim=['time'])\n",
    "# combine_test = xr.combine_nested(virtual_datasets_test,concat_dim=['time'],coords='minimal',compat='override')\n",
    "# combine_test.virtualize.to_kerchunk('combine_test.json', format='json')"
   ]
  }
 ],
 "metadata": {
  "kernelspec": {
   "display_name": "micasa-virtualizarr",
   "language": "python",
   "name": "micasa-virtualizarr"
  },
  "language_info": {
   "codemirror_mode": {
    "name": "ipython",
    "version": 3
   },
   "file_extension": ".py",
   "mimetype": "text/x-python",
   "name": "python",
   "nbconvert_exporter": "python",
   "pygments_lexer": "ipython3",
   "version": "3.12.10"
  }
 },
 "nbformat": 4,
 "nbformat_minor": 5
}
