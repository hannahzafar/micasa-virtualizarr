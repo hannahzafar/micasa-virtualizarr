{
 "cells": [
  {
   "cell_type": "code",
   "execution_count": null,
   "id": "373c8c05-354f-4662-8da3-5d17874a8637",
   "metadata": {
    "editable": true,
    "slideshow": {
     "slide_type": ""
    },
    "tags": []
   },
   "outputs": [],
   "source": [
    "import numpy as np\n",
    "import pandas as pd\n",
    "import xarray as xr\n",
    "import virtualizarr\n",
    "from virtualizarr import open_virtual_dataset\n",
    "import glob\n",
    "import os"
   ]
  },
  {
   "cell_type": "code",
   "execution_count": null,
   "id": "6c61158f-0330-4fa8-b33c-a9405a732191",
   "metadata": {},
   "outputs": [],
   "source": [
    "virtualizarr.__version__"
   ]
  },
  {
   "cell_type": "code",
   "execution_count": null,
   "id": "6047c131-9bac-49a3-bf23-64dc58ea986b",
   "metadata": {},
   "outputs": [],
   "source": [
    "# Test 2001-01 daily\n",
    "path_glob = '../micasa-data/daily-0.1deg-final/holding/daily/2001/01/MiCASA_v1_flux*.nc4'\n",
    "\n",
    "path_list = sorted(glob.glob(path_glob))"
   ]
  },
  {
   "cell_type": "markdown",
   "id": "9b972eff-0e69-4c80-bce4-eb1bf37a5dc7",
   "metadata": {},
   "source": [
    "# Test 1 path"
   ]
  },
  {
   "cell_type": "code",
   "execution_count": null,
   "id": "5095f699-6618-4639-8d39-474906bd7edd",
   "metadata": {},
   "outputs": [],
   "source": [
    "path_test = path_list[0]\n",
    "vd_test = open_virtual_dataset(path_test)\n",
    "# vd_test = open_virtual_dataset(path_test, indexes={})\n",
    "vd_test"
   ]
  },
  {
   "cell_type": "code",
   "execution_count": null,
   "id": "67148a63-926c-472a-95ee-cd41011cde9c",
   "metadata": {},
   "outputs": [],
   "source": [
    "vd_test['NEE'].data.manifest.dict()\n",
    "# So this has a bunch of chunks in one .nc"
   ]
  },
  {
   "cell_type": "markdown",
   "id": "95bcd751-e1b9-460e-8ad8-8d364b36f657",
   "metadata": {},
   "source": [
    "## Test the first 3 paths"
   ]
  },
  {
   "cell_type": "code",
   "execution_count": null,
   "id": "fc241078-b61c-476b-a412-82d5415db3b9",
   "metadata": {},
   "outputs": [],
   "source": [
    "path_test = path_list[0:3]\n",
    "# path_test = path_list[0]\n",
    "# path_test\""
   ]
  },
  {
   "cell_type": "markdown",
   "id": "c6b1f49a-5c4e-45eb-9512-694ea6140428",
   "metadata": {},
   "source": [
    "#### No Loading Vars Test"
   ]
  },
  {
   "cell_type": "code",
   "execution_count": null,
   "id": "89ad772f-0eae-4742-86ff-72fcbca94290",
   "metadata": {},
   "outputs": [],
   "source": [
    "vd_test = [open_virtual_dataset(filepath, indexes={}) for filepath in path_test]"
   ]
  },
  {
   "cell_type": "code",
   "execution_count": null,
   "id": "39201806-0320-4ad3-b1b2-73a677fa1614",
   "metadata": {},
   "outputs": [],
   "source": [
    "concat_test = xr.concat(vd_test,dim='time',coords='minimal',compat='override')\n",
    "concat_test.virtualize.to_kerchunk('concat_test2.json', format='json')"
   ]
  },
  {
   "cell_type": "code",
   "execution_count": null,
   "id": "7d64456c-68e8-4da5-a9ef-2bf58519650b",
   "metadata": {},
   "outputs": [],
   "source": [
    "concat_test"
   ]
  },
  {
   "cell_type": "markdown",
   "id": "149bcda3-ec20-415d-83bc-51cf326de13f",
   "metadata": {},
   "source": [
    "#### Loadable Variable Test"
   ]
  },
  {
   "cell_type": "code",
   "execution_count": null,
   "id": "98a31492-bff7-42e9-8c04-1bd7f536d2f3",
   "metadata": {},
   "outputs": [],
   "source": [
    "# Loadable test - this seems to be a temporary fix for the time var issue\n",
    "virtual_datasets = [open_virtual_dataset(filepath, \n",
    "                                         loadable_variables=[\"time\"],\n",
    "                                         decode_times=True,\n",
    "                                        ) for filepath in path_test]\n",
    "virtual_datasets"
   ]
  },
  {
   "cell_type": "code",
   "execution_count": null,
   "id": "76d7dcc0-8ab8-42a9-a3b1-52fc1483f731",
   "metadata": {},
   "outputs": [],
   "source": []
  },
  {
   "cell_type": "code",
   "execution_count": null,
   "id": "3cae5d0c-19b3-488b-b19c-eebae9c41155",
   "metadata": {},
   "outputs": [],
   "source": [
    "virtual_ds_combine = xr.concat(virtual_datasets, dim='time', coords='minimal',compat='override')\n",
    "virtual_ds_combine.virtualize.to_kerchunk('combined_test_loadable.json', format='json')"
   ]
  },
  {
   "cell_type": "markdown",
   "id": "cdf56c8e-ba94-4b14-ae13-5513557ad954",
   "metadata": {
    "jp-MarkdownHeadingCollapsed": true
   },
   "source": [
    "# Dump"
   ]
  },
  {
   "cell_type": "code",
   "execution_count": null,
   "id": "f26651c5-b971-4bf3-b5ad-d6f7fd73f6cc",
   "metadata": {},
   "outputs": [],
   "source": [
    "# # this Dataset wraps a bunch of virtual ManifestArray objects directly\n",
    "# virtual_ds = xr.combine_nested(virtual_datasets, concat_dim=['time'])\n",
    "# virtual_ds = xr.concat(virtual_datasets, dim='time')\n",
    "\n",
    "\n",
    "# # cache the combined dataset pattern to disk, in this case using the existing kerchunk specification for re ference files\n",
    "# virtual_ds.virtualize.to_kerchunk('combined_test.json', format='json')\n",
    "# # virtual_ds.virtualize.to_kerchunk('combined_test.json', format='parquet')"
   ]
  },
  {
   "cell_type": "code",
   "execution_count": null,
   "id": "54e958df-ee0d-45b3-880a-bf54f53c02f1",
   "metadata": {},
   "outputs": [],
   "source": [
    "\n",
    "# combine_test = xr.combine_nested(virtual_datasets_test,concat_dim=['time'])\n",
    "# combine_test = xr.combine_nested(virtual_datasets_test,concat_dim=['time'],coords='minimal',compat='override')\n",
    "# combine_test.virtualize.to_kerchunk('combine_test.json', format='json')"
   ]
  },
  {
   "cell_type": "markdown",
   "id": "8b8f3e50-d0b6-4e01-a2cf-d7dc6369f14f",
   "metadata": {},
   "source": [
    "## Make virtualizarr store for MiCASA data"
   ]
  },
  {
   "cell_type": "code",
   "execution_count": null,
   "id": "a1d1e505-8a44-4c51-8c4e-e682f23b898e",
   "metadata": {},
   "outputs": [],
   "source": [
    "# path_test = path_list"
   ]
  },
  {
   "cell_type": "code",
   "execution_count": null,
   "id": "7c13f87c-917d-4c7a-b5fd-75e05ba91d23",
   "metadata": {},
   "outputs": [],
   "source": [
    "# virtual_datasets = [open_virtual_dataset(filepath, loadable_variables=[\"time\"], indexes={}) for filepath in path_test] #loadable item carries datetime correctly"
   ]
  },
  {
   "cell_type": "code",
   "execution_count": null,
   "id": "5c347bf8-a644-4e05-9f71-ad688eed269e",
   "metadata": {},
   "outputs": [],
   "source": [
    "# virtual_ds_combine = xr.combine_nested(virtual_datasets, concat_dim=['time'], coords='minimal',compat='override')\n",
    "# virtual_ds_combine"
   ]
  },
  {
   "cell_type": "code",
   "execution_count": null,
   "id": "780b9fd4-e388-4544-a3b2-c6fcf6aac237",
   "metadata": {},
   "outputs": [],
   "source": [
    "# virtual_ds_combine.virtualize.to_kerchunk('combined.json', format='json')"
   ]
  }
 ],
 "metadata": {
  "kernelspec": {
   "display_name": "micasa-virtualizarr",
   "language": "python",
   "name": "micasa-virtualizarr"
  },
  "language_info": {
   "codemirror_mode": {
    "name": "ipython",
    "version": 3
   },
   "file_extension": ".py",
   "mimetype": "text/x-python",
   "name": "python",
   "nbconvert_exporter": "python",
   "pygments_lexer": "ipython3",
   "version": "3.12.10"
  }
 },
 "nbformat": 4,
 "nbformat_minor": 5
}
