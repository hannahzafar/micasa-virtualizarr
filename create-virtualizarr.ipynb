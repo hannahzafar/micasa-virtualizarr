{
 "cells": [
  {
   "cell_type": "code",
   "execution_count": 1,
   "id": "373c8c05-354f-4662-8da3-5d17874a8637",
   "metadata": {},
   "outputs": [],
   "source": [
    "import numpy as np\n",
    "import pandas as pd\n",
    "import xarray as xr\n",
    "from virtualizarr import open_virtual_dataset\n",
    "import glob\n",
    "import os"
   ]
  },
  {
   "cell_type": "code",
   "execution_count": 2,
   "id": "6047c131-9bac-49a3-bf23-64dc58ea986b",
   "metadata": {},
   "outputs": [
    {
     "data": {
      "text/plain": [
       "['../micasa-data/daily-0.1deg-final/holding/daily/2001/01/MiCASA_v1_flux_x3600_y1800_daily_20010101.nc4',\n",
       " '../micasa-data/daily-0.1deg-final/holding/daily/2001/01/MiCASA_v1_flux_x3600_y1800_daily_20010102.nc4',\n",
       " '../micasa-data/daily-0.1deg-final/holding/daily/2001/01/MiCASA_v1_flux_x3600_y1800_daily_20010103.nc4']"
      ]
     },
     "execution_count": 2,
     "metadata": {},
     "output_type": "execute_result"
    }
   ],
   "source": [
    "# Test 2001-01 daily\n",
    "path_glob = '../micasa-data/daily-0.1deg-final/holding/daily/2001/01/MiCASA_v1_flux*.nc4'\n",
    "\n",
    "path_list = sorted(glob.glob(path_glob),key=os.path.getmtime)\n",
    "path_list[0:3]"
   ]
  },
  {
   "cell_type": "markdown",
   "id": "8b8f3e50-d0b6-4e01-a2cf-d7dc6369f14f",
   "metadata": {},
   "source": [
    "# Make virtualizarr store for MiCASA data"
   ]
  },
  {
   "cell_type": "code",
   "execution_count": null,
   "id": "a1d1e505-8a44-4c51-8c4e-e682f23b898e",
   "metadata": {},
   "outputs": [],
   "source": [
    "path_test = path_list"
   ]
  },
  {
   "cell_type": "code",
   "execution_count": null,
   "id": "7c13f87c-917d-4c7a-b5fd-75e05ba91d23",
   "metadata": {},
   "outputs": [],
   "source": [
    "virtual_datasets = [open_virtual_dataset(filepath, loadable_variables=[\"time\"], indexes={}) for filepath in path_test] #loadable item carries datetime correctly\n",
    "# virtual_datasets = [open_virtual_dataset(filepath, indexes={}) for filepath in path_test]"
   ]
  },
  {
   "cell_type": "code",
   "execution_count": null,
   "id": "5c347bf8-a644-4e05-9f71-ad688eed269e",
   "metadata": {},
   "outputs": [],
   "source": [
    "virtual_ds_combine = xr.combine_nested(virtual_datasets, concat_dim=['time'], coords='minimal',compat='override')\n",
    "virtual_ds_combine"
   ]
  },
  {
   "cell_type": "code",
   "execution_count": null,
   "id": "780b9fd4-e388-4544-a3b2-c6fcf6aac237",
   "metadata": {},
   "outputs": [],
   "source": [
    "virtual_ds_combine.virtualize.to_kerchunk('combined.json', format='json')"
   ]
  },
  {
   "cell_type": "markdown",
   "id": "95bcd751-e1b9-460e-8ad8-8d364b36f657",
   "metadata": {},
   "source": [
    "## Error debugging"
   ]
  },
  {
   "cell_type": "code",
   "execution_count": 6,
   "id": "fc241078-b61c-476b-a412-82d5415db3b9",
   "metadata": {},
   "outputs": [
    {
     "data": {
      "text/plain": [
       "['../micasa-data/daily-0.1deg-final/holding/daily/2001/01/MiCASA_v1_flux_x3600_y1800_daily_20010101.nc4',\n",
       " '../micasa-data/daily-0.1deg-final/holding/daily/2001/01/MiCASA_v1_flux_x3600_y1800_daily_20010102.nc4',\n",
       " '../micasa-data/daily-0.1deg-final/holding/daily/2001/01/MiCASA_v1_flux_x3600_y1800_daily_20010103.nc4']"
      ]
     },
     "execution_count": 6,
     "metadata": {},
     "output_type": "execute_result"
    }
   ],
   "source": [
    "path_test = path_list[0:3]"
   ]
  },
  {
   "cell_type": "code",
   "execution_count": 8,
   "id": "dcdc6e5a-14fe-4fc9-b15d-8f6728dd0a06",
   "metadata": {},
   "outputs": [],
   "source": [
    "# Without loading in time:\n",
    "virtual_datasets_test = [open_virtual_dataset(filepath, indexes={}) for filepath in path_test]\n",
    "# virtual_ds_test = xr.combine_nested(virtual_datasets_test,concat_dim=['time'])\n",
    "# virtual_ds_test = xr.concat(virtual_datasets_test,concat_dim=['time'])"
   ]
  },
  {
   "cell_type": "markdown",
   "id": "a2efc7bb-38dc-4af3-88c3-7542e94f6389",
   "metadata": {},
   "source": [
    "## Open zarr dataset"
   ]
  },
  {
   "cell_type": "code",
   "execution_count": null,
   "id": "d1019101-ef70-40d3-b15a-39b9bbc7214b",
   "metadata": {},
   "outputs": [],
   "source": [
    "# one I just made\n",
    "ds_combine = xr.open_dataset('combined.json', engine='kerchunk', chunks={}) \n",
    "ds_combine"
   ]
  },
  {
   "cell_type": "code",
   "execution_count": null,
   "id": "2dc5ec76-277a-4da9-92fa-6b8c089c10a2",
   "metadata": {},
   "outputs": [],
   "source": [
    "#one I made via concat\n",
    "ds_concat =  xr.open_dataset('old/concat.json', engine='kerchunk', chunks={}) \n",
    "ds_concat"
   ]
  },
  {
   "cell_type": "code",
   "execution_count": null,
   "id": "a0e6af23-ceb4-407c-8b70-500f50acac38",
   "metadata": {},
   "outputs": [],
   "source": [
    "# old one all time\n",
    "ds_old = xr.open_dataset('old/combined.json', engine='kerchunk', chunks={}) \n",
    "ds_old"
   ]
  }
 ],
 "metadata": {
  "kernelspec": {
   "display_name": "virtualizarr_env",
   "language": "python",
   "name": "virtualizarr_env"
  },
  "language_info": {
   "codemirror_mode": {
    "name": "ipython",
    "version": 3
   },
   "file_extension": ".py",
   "mimetype": "text/x-python",
   "name": "python",
   "nbconvert_exporter": "python",
   "pygments_lexer": "ipython3",
   "version": "3.13.1"
  }
 },
 "nbformat": 4,
 "nbformat_minor": 5
}
